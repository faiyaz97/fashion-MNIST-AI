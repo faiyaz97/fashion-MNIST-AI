{
  "nbformat": 4,
  "nbformat_minor": 0,
  "metadata": {
    "colab": {
      "name": "cw2.ipynb",
      "provenance": [],
      "collapsed_sections": [],
      "toc_visible": true
    },
    "kernelspec": {
      "name": "python3",
      "display_name": "Python 3"
    }
  },
  "cells": [
    {
      "cell_type": "markdown",
      "metadata": {
        "id": "KomBFeh-Q9AK",
        "colab_type": "text"
      },
      "source": [
        "# **FASHION - MNIST**\n",
        "For this coursework, I decided to develop lab exercise 5. The exercise includes using the Fashion MNIST dataset imported from the keras datasets and creating the best model for this type of dataset. The Fashion MNIST dataset is a multiclass image classification task. The dataset includes 60,000 train sets and 10,000 test sets of images of clothes divided into 10 categories. The exercise includes predicting in which category the object in the image belongs.\n",
        "\n",
        "The technique that I would like to use here to improve the accuracy of the prediction is the Convolutional Neural Network (ConvNet) which is used most often when you have the images as a dataset. For this exercise, I followed chapter 5 of the book \"Deep Learning With Python\" and the codes that we can find in 2.1 in the master notebook and from [here](https://colab.research.google.com/github/margaretmz/deep-learning/blob/master/fashion_mnist_keras.ipynb#scrollTo=1ShU787gZZg0).\n",
        "\n",
        "I created two models: one just using Dense layers and another one with ConvNet so we can see the difference."
      ]
    },
    {
      "cell_type": "markdown",
      "metadata": {
        "id": "x-JYg4mVfZkc",
        "colab_type": "text"
      },
      "source": [
        "# Importing libraries\n",
        "First of all, we need to import the libraries and those are:\n",
        "* Tensorflow that helps me build and train my models.\n",
        "* Keras that helps me build my deep learning model together with Tensorflow.\n",
        "* Matplotlib which I will use to make graphs to represent my results."
      ]
    },
    {
      "cell_type": "code",
      "metadata": {
        "id": "wxy1gZ2bQ4do",
        "colab_type": "code",
        "colab": {}
      },
      "source": [
        "import tensorflow as tf\n",
        "import numpy as np\n",
        "import matplotlib.pyplot as plt\n",
        "\n",
        "from tensorflow.keras import layers\n",
        "from tensorflow.keras import models"
      ],
      "execution_count": 0,
      "outputs": []
    },
    {
      "cell_type": "markdown",
      "metadata": {
        "id": "t49u3T9Mf8o5",
        "colab_type": "text"
      },
      "source": [
        "# Import and load the dataset\n",
        "Importing and loading the dataset fashion MNIST from keras."
      ]
    },
    {
      "cell_type": "code",
      "metadata": {
        "id": "i-DBC16G2FKu",
        "colab_type": "code",
        "outputId": "e4f2d786-8268-402f-8aff-274733118d8c",
        "colab": {
          "base_uri": "https://localhost:8080/",
          "height": 34
        }
      },
      "source": [
        "from tensorflow.keras.datasets import fashion_mnist\n",
        "from tensorflow.keras.utils import to_categorical\n",
        "\n",
        "(train_images, train_labels), (test_images, test_labels) = fashion_mnist.load_data()\n",
        "\n",
        "print(\"x_train shape:\", train_images.shape, \"y_train shape:\", train_labels.shape)"
      ],
      "execution_count": 0,
      "outputs": [
        {
          "output_type": "stream",
          "text": [
            "x_train shape: (60000, 28, 28) y_train shape: (60000,)\n"
          ],
          "name": "stdout"
        }
      ]
    },
    {
      "cell_type": "markdown",
      "metadata": {
        "id": "ncwKj7P_guY9",
        "colab_type": "text"
      },
      "source": [
        "# Visualise the data\n",
        "The code below is taken from [here](https://colab.research.google.com/github/margaretmz/deep-learning/blob/master/fashion_mnist_keras.ipynb#scrollTo=Ixyte299ZZgk). Here we can see the categories of the clothing and how the data is. The shape of the data is (60000, 28, 28) that means 60000 images with size of 28x28. The image is in greyscale.grey scale."
      ]
    },
    {
      "cell_type": "code",
      "metadata": {
        "id": "aFe4wHGRFKle",
        "colab_type": "code",
        "outputId": "1403cdd4-dee8-478a-99d6-97b2aded3e3b",
        "colab": {
          "base_uri": "https://localhost:8080/",
          "height": 350
        }
      },
      "source": [
        "# Print training set shape - note there are 60,000 training data of image size of 28x28, 60,000 train labels)\n",
        "print(\"x_train shape:\", train_images.shape, \"y_train shape:\", train_labels.shape)\n",
        "\n",
        "# Print the number of training and test datasets\n",
        "print(train_images.shape[0], 'train set')\n",
        "print(test_images.shape[0], 'test set')\n",
        "\n",
        "# Define the text labels\n",
        "fashion_mnist_labels = [\"T-shirt/top\",  # index 0\n",
        "                        \"Trouser\",      # index 1\n",
        "                        \"Pullover\",     # index 2 \n",
        "                        \"Dress\",        # index 3 \n",
        "                        \"Coat\",         # index 4\n",
        "                        \"Sandal\",       # index 5\n",
        "                        \"Shirt\",        # index 6 \n",
        "                        \"Sneaker\",      # index 7 \n",
        "                        \"Bag\",          # index 8 \n",
        "                        \"Ankle boot\"]   # index 9\n",
        "\n",
        "# Image index, you can pick any number between 0 and 59,999\n",
        "img_index = 5\n",
        "# y_train contains the lables, ranging from 0 to 9\n",
        "label_index = train_labels[img_index]\n",
        "# Print the label, for example 2 Pullover\n",
        "print (\"y = \" + str(label_index) + \" \" +(fashion_mnist_labels[label_index]))\n",
        "# # Show one of the images from the training dataset\n",
        "plt.imshow(train_images[img_index], cmap = 'gray')"
      ],
      "execution_count": 0,
      "outputs": [
        {
          "output_type": "stream",
          "text": [
            "x_train shape: (60000, 28, 28) y_train shape: (60000,)\n",
            "60000 train set\n",
            "10000 test set\n",
            "y = 2 Pullover\n"
          ],
          "name": "stdout"
        },
        {
          "output_type": "execute_result",
          "data": {
            "text/plain": [
              "<matplotlib.image.AxesImage at 0x7f12490e4748>"
            ]
          },
          "metadata": {
            "tags": []
          },
          "execution_count": 4
        },
        {
          "output_type": "display_data",
          "data": {
            "image/png": "[encoded data removed]",
            "text/plain": [
              "<Figure size 432x288 with 1 Axes>"
            ]
          },
          "metadata": {
            "tags": []
          }
        }
      ]
    },
    {
      "cell_type": "markdown",
      "metadata": {
        "id": "qvtn3zzt_0lq",
        "colab_type": "text"
      },
      "source": [
        "# Simple model\n",
        "This is the first model created with only two Dense layers. The last layer is a \"softmax\" layer and is used mostly for the final output on multi-class classification. Softmax calculate the probabilities for each class, which in our case we have 10 different type of clothing, so 10 class. With the probabilities' value will determine which one of the class will be."
      ]
    },
    {
      "cell_type": "code",
      "metadata": {
        "id": "KjkZ3cW-7dTQ",
        "colab_type": "code",
        "outputId": "472a431a-f5a9-4f57-85b6-5d057d0fe73e",
        "colab": {
          "base_uri": "https://localhost:8080/",
          "height": 88
        }
      },
      "source": [
        "model = models.Sequential()\n",
        "model.add(layers.Dense(64, activation='relu', input_shape=(28 * 28,)))\n",
        "model.add(layers.Dense(10, activation='softmax'))"
      ],
      "execution_count": 0,
      "outputs": [
        {
          "output_type": "stream",
          "text": [
            "WARNING:tensorflow:From /usr/local/lib/python3.6/dist-packages/tensorflow_core/python/ops/resource_variable_ops.py:1630: calling BaseResourceVariable.__init__ (from tensorflow.python.ops.resource_variable_ops) with constraint is deprecated and will be removed in a future version.\n",
            "Instructions for updating:\n",
            "If using Keras pass *_constraint arguments to layers.\n"
          ],
          "name": "stdout"
        }
      ]
    },
    {
      "cell_type": "markdown",
      "metadata": {
        "id": "KW8N8CSsnL_7",
        "colab_type": "text"
      },
      "source": [
        "We reshaping the data into a float32 array of shape (60000, 28 * 28) with values between 0 and 1."
      ]
    },
    {
      "cell_type": "code",
      "metadata": {
        "id": "AqPngEJt9axU",
        "colab_type": "code",
        "colab": {}
      },
      "source": [
        "train_images = train_images.reshape((60000, 28 * 28))\n",
        "train_images = train_images.astype('float32') / 255\n",
        "\n",
        "test_images = test_images.reshape((10000, 28 * 28))\n",
        "test_images = test_images.astype('float32') / 255"
      ],
      "execution_count": 0,
      "outputs": []
    },
    {
      "cell_type": "markdown",
      "metadata": {
        "id": "4vPEM_e6nVVl",
        "colab_type": "text"
      },
      "source": [
        "Keeping 55000 data for training and the rest 5000 for the validation set."
      ]
    },
    {
      "cell_type": "code",
      "metadata": {
        "id": "qTdr0r9-HFVo",
        "colab_type": "code",
        "colab": {}
      },
      "source": [
        "(train_images, valid_images) = train_images[5000:], train_images[:5000] \n",
        "(train_labels, valid_labels) = train_labels[5000:], train_labels[:5000]"
      ],
      "execution_count": 0,
      "outputs": []
    },
    {
      "cell_type": "code",
      "metadata": {
        "id": "8l2xOc_R3Wsh",
        "colab_type": "code",
        "colab": {}
      },
      "source": [
        "model.compile(optimizer='adam',\n",
        "              loss='sparse_categorical_crossentropy',\n",
        "              metrics=['accuracy'])\n"
      ],
      "execution_count": 0,
      "outputs": []
    },
    {
      "cell_type": "markdown",
      "metadata": {
        "id": "HYyRFZpkpuBb",
        "colab_type": "text"
      },
      "source": [
        "# Training the model\n",
        "After giving the compile arguments we are ready to train our model. I am training with 100 epochs in batch size of 64. Each epoch takes 2 seconds to complete that means the training is really fast. I am using also the callbacks to save the best validation accuracy.\n"
      ]
    },
    {
      "cell_type": "code",
      "metadata": {
        "id": "znYMpfT38K01",
        "colab_type": "code",
        "outputId": "3fe351b3-22b8-4c88-bc01-0193c2b237eb",
        "colab": {
          "base_uri": "https://localhost:8080/",
          "height": 1000
        }
      },
      "source": [
        "from keras.callbacks import ModelCheckpoint\n",
        "checkpointer = ModelCheckpoint(filepath='model.weights.best.hdf5', verbose = 1, save_best_only=True)\n",
        "\n",
        "histories = model.fit(train_images,\n",
        "                    train_labels,\n",
        "                    epochs=100,\n",
        "                    batch_size=64,\n",
        "                    validation_data=(valid_images, valid_labels),\n",
        "                    callbacks=[checkpointer])"
      ],
      "execution_count": 0,
      "outputs": [
        {
          "output_type": "stream",
          "text": [
            "Train on 55000 samples, validate on 5000 samples\n",
            "Epoch 1/100\n",
            "53696/55000 [============================>.] - ETA: 0s - loss: 0.5668 - acc: 0.8038\n",
            "Epoch 00001: val_loss improved from inf to 0.42910, saving model to model.weights.best.hdf5\n",
            "55000/55000 [==============================] - 2s 36us/sample - loss: 0.5645 - acc: 0.8045 - val_loss: 0.4291 - val_acc: 0.8536\n",
            "Epoch 2/100\n",
            "54976/55000 [============================>.] - ETA: 0s - loss: 0.4154 - acc: 0.8525\n",
            "Epoch 00002: val_loss improved from 0.42910 to 0.38191, saving model to model.weights.best.hdf5\n",
            "55000/55000 [==============================] - 2s 34us/sample - loss: 0.4155 - acc: 0.8524 - val_loss: 0.3819 - val_acc: 0.8642\n",
            "Epoch 3/100\n",
            "53888/55000 [============================>.] - ETA: 0s - loss: 0.3799 - acc: 0.8643\n",
            "Epoch 00003: val_loss did not improve from 0.38191\n",
            "55000/55000 [==============================] - 2s 33us/sample - loss: 0.3800 - acc: 0.8643 - val_loss: 0.3834 - val_acc: 0.8654\n",
            "Epoch 4/100\n",
            "53312/55000 [============================>.] - ETA: 0s - loss: 0.3527 - acc: 0.8730\n",
            "Epoch 00004: val_loss improved from 0.38191 to 0.35155, saving model to model.weights.best.hdf5\n",
            "55000/55000 [==============================] - 2s 33us/sample - loss: 0.3534 - acc: 0.8728 - val_loss: 0.3516 - val_acc: 0.8756\n",
            "Epoch 5/100\n",
            "53760/55000 [============================>.] - ETA: 0s - loss: 0.3360 - acc: 0.8767\n",
            "Epoch 00005: val_loss did not improve from 0.35155\n",
            "55000/55000 [==============================] - 2s 33us/sample - loss: 0.3366 - acc: 0.8766 - val_loss: 0.3566 - val_acc: 0.8690\n",
            "Epoch 6/100\n",
            "54464/55000 [============================>.] - ETA: 0s - loss: 0.3218 - acc: 0.8831\n",
            "Epoch 00006: val_loss improved from 0.35155 to 0.34621, saving model to model.weights.best.hdf5\n",
            "55000/55000 [==============================] - 2s 34us/sample - loss: 0.3218 - acc: 0.8830 - val_loss: 0.3462 - val_acc: 0.8750\n",
            "Epoch 7/100\n",
            "54080/55000 [============================>.] - ETA: 0s - loss: 0.3079 - acc: 0.8875\n",
            "Epoch 00007: val_loss improved from 0.34621 to 0.32638, saving model to model.weights.best.hdf5\n",
            "55000/55000 [==============================] - 2s 34us/sample - loss: 0.3081 - acc: 0.8875 - val_loss: 0.3264 - val_acc: 0.8834\n",
            "Epoch 8/100\n",
            "54336/55000 [============================>.] - ETA: 0s - loss: 0.2971 - acc: 0.8916\n",
            "Epoch 00008: val_loss improved from 0.32638 to 0.31733, saving model to model.weights.best.hdf5\n",
            "55000/55000 [==============================] - 2s 33us/sample - loss: 0.2975 - acc: 0.8916 - val_loss: 0.3173 - val_acc: 0.8864\n",
            "Epoch 9/100\n",
            "54912/55000 [============================>.] - ETA: 0s - loss: 0.2889 - acc: 0.8938\n",
            "Epoch 00009: val_loss improved from 0.31733 to 0.31366, saving model to model.weights.best.hdf5\n",
            "55000/55000 [==============================] - 2s 34us/sample - loss: 0.2888 - acc: 0.8938 - val_loss: 0.3137 - val_acc: 0.8870\n",
            "Epoch 10/100\n",
            "54464/55000 [============================>.] - ETA: 0s - loss: 0.2799 - acc: 0.8971\n",
            "Epoch 00010: val_loss improved from 0.31366 to 0.30503, saving model to model.weights.best.hdf5\n",
            "55000/55000 [==============================] - 2s 38us/sample - loss: 0.2801 - acc: 0.8971 - val_loss: 0.3050 - val_acc: 0.8900\n",
            "Epoch 11/100\n",
            "54720/55000 [============================>.] - ETA: 0s - loss: 0.2716 - acc: 0.9007\n",
            "Epoch 00011: val_loss did not improve from 0.30503\n",
            "55000/55000 [==============================] - 2s 36us/sample - loss: 0.2718 - acc: 0.9006 - val_loss: 0.3157 - val_acc: 0.8842\n",
            "Epoch 12/100\n",
            "53504/55000 [============================>.] - ETA: 0s - loss: 0.2636 - acc: 0.9033\n",
            "Epoch 00012: val_loss did not improve from 0.30503\n",
            "55000/55000 [==============================] - 2s 33us/sample - loss: 0.2647 - acc: 0.9029 - val_loss: 0.3169 - val_acc: 0.8878\n",
            "Epoch 13/100\n",
            "54848/55000 [============================>.] - ETA: 0s - loss: 0.2581 - acc: 0.9040\n",
            "Epoch 00013: val_loss improved from 0.30503 to 0.30451, saving model to model.weights.best.hdf5\n",
            "55000/55000 [==============================] - 2s 33us/sample - loss: 0.2579 - acc: 0.9041 - val_loss: 0.3045 - val_acc: 0.8884\n",
            "Epoch 14/100\n",
            "54528/55000 [============================>.] - ETA: 0s - loss: 0.2537 - acc: 0.9073\n",
            "Epoch 00014: val_loss improved from 0.30451 to 0.30397, saving model to model.weights.best.hdf5\n",
            "55000/55000 [==============================] - 2s 38us/sample - loss: 0.2541 - acc: 0.9072 - val_loss: 0.3040 - val_acc: 0.8922\n",
            "Epoch 15/100\n",
            "53952/55000 [============================>.] - ETA: 0s - loss: 0.2483 - acc: 0.9085\n",
            "Epoch 00015: val_loss did not improve from 0.30397\n",
            "55000/55000 [==============================] - 2s 33us/sample - loss: 0.2472 - acc: 0.9089 - val_loss: 0.3294 - val_acc: 0.8856\n",
            "Epoch 16/100\n",
            "53952/55000 [============================>.] - ETA: 0s - loss: 0.2420 - acc: 0.9115\n",
            "Epoch 00016: val_loss improved from 0.30397 to 0.29965, saving model to model.weights.best.hdf5\n",
            "55000/55000 [==============================] - 2s 32us/sample - loss: 0.2418 - acc: 0.9117 - val_loss: 0.2997 - val_acc: 0.8906\n",
            "Epoch 17/100\n",
            "54592/55000 [============================>.] - ETA: 0s - loss: 0.2376 - acc: 0.9132\n",
            "Epoch 00017: val_loss did not improve from 0.29965\n",
            "55000/55000 [==============================] - 2s 38us/sample - loss: 0.2375 - acc: 0.9133 - val_loss: 0.3091 - val_acc: 0.8884\n",
            "Epoch 18/100\n",
            "54272/55000 [============================>.] - ETA: 0s - loss: 0.2328 - acc: 0.9129\n",
            "Epoch 00018: val_loss did not improve from 0.29965\n",
            "55000/55000 [==============================] - 2s 36us/sample - loss: 0.2329 - acc: 0.9127 - val_loss: 0.3247 - val_acc: 0.8832\n",
            "Epoch 19/100\n",
            "54144/55000 [============================>.] - ETA: 0s - loss: 0.2282 - acc: 0.9160\n",
            "Epoch 00019: val_loss improved from 0.29965 to 0.29887, saving model to model.weights.best.hdf5\n",
            "55000/55000 [==============================] - 2s 33us/sample - loss: 0.2279 - acc: 0.9160 - val_loss: 0.2989 - val_acc: 0.8922\n",
            "Epoch 20/100\n",
            "53632/55000 [============================>.] - ETA: 0s - loss: 0.2231 - acc: 0.9168\n",
            "Epoch 00020: val_loss did not improve from 0.29887\n",
            "55000/55000 [==============================] - 2s 37us/sample - loss: 0.2238 - acc: 0.9167 - val_loss: 0.3196 - val_acc: 0.8872\n",
            "Epoch 21/100\n",
            "53376/55000 [============================>.] - ETA: 0s - loss: 0.2212 - acc: 0.9182\n",
            "Epoch 00021: val_loss did not improve from 0.29887\n",
            "55000/55000 [==============================] - 2s 32us/sample - loss: 0.2209 - acc: 0.9183 - val_loss: 0.3139 - val_acc: 0.8908\n",
            "Epoch 22/100\n",
            "54720/55000 [============================>.] - ETA: 0s - loss: 0.2153 - acc: 0.9215\n",
            "Epoch 00022: val_loss did not improve from 0.29887\n",
            "55000/55000 [==============================] - 2s 38us/sample - loss: 0.2154 - acc: 0.9215 - val_loss: 0.3224 - val_acc: 0.8834\n",
            "Epoch 23/100\n",
            "54784/55000 [============================>.] - ETA: 0s - loss: 0.2146 - acc: 0.9200\n",
            "Epoch 00023: val_loss did not improve from 0.29887\n",
            "55000/55000 [==============================] - 2s 33us/sample - loss: 0.2147 - acc: 0.9198 - val_loss: 0.3168 - val_acc: 0.8902\n",
            "Epoch 24/100\n",
            "54912/55000 [============================>.] - ETA: 0s - loss: 0.2097 - acc: 0.9223\n",
            "Epoch 00024: val_loss did not improve from 0.29887\n",
            "55000/55000 [==============================] - 2s 37us/sample - loss: 0.2096 - acc: 0.9223 - val_loss: 0.3132 - val_acc: 0.8880\n",
            "Epoch 25/100\n",
            "53376/55000 [============================>.] - ETA: 0s - loss: 0.2050 - acc: 0.9243\n",
            "Epoch 00025: val_loss did not improve from 0.29887\n",
            "55000/55000 [==============================] - 2s 33us/sample - loss: 0.2052 - acc: 0.9242 - val_loss: 0.3281 - val_acc: 0.8840\n",
            "Epoch 26/100\n",
            "54400/55000 [============================>.] - ETA: 0s - loss: 0.2028 - acc: 0.9240\n",
            "Epoch 00026: val_loss did not improve from 0.29887\n",
            "55000/55000 [==============================] - 2s 41us/sample - loss: 0.2027 - acc: 0.9241 - val_loss: 0.3160 - val_acc: 0.8882\n",
            "Epoch 27/100\n",
            "54208/55000 [============================>.] - ETA: 0s - loss: 0.2005 - acc: 0.9252\n",
            "Epoch 00027: val_loss did not improve from 0.29887\n",
            "55000/55000 [==============================] - 2s 36us/sample - loss: 0.2001 - acc: 0.9254 - val_loss: 0.3209 - val_acc: 0.8906\n",
            "Epoch 28/100\n",
            "53632/55000 [============================>.] - ETA: 0s - loss: 0.1961 - acc: 0.9279\n",
            "Epoch 00028: val_loss did not improve from 0.29887\n",
            "55000/55000 [==============================] - 2s 38us/sample - loss: 0.1963 - acc: 0.9277 - val_loss: 0.3320 - val_acc: 0.8842\n",
            "Epoch 29/100\n",
            "53248/55000 [============================>.] - ETA: 0s - loss: 0.1940 - acc: 0.9280\n",
            "Epoch 00029: val_loss did not improve from 0.29887\n",
            "55000/55000 [==============================] - 2s 33us/sample - loss: 0.1944 - acc: 0.9278 - val_loss: 0.3301 - val_acc: 0.8866\n",
            "Epoch 30/100\n",
            "54464/55000 [============================>.] - ETA: 0s - loss: 0.1907 - acc: 0.9284\n",
            "Epoch 00030: val_loss did not improve from 0.29887\n",
            "55000/55000 [==============================] - 2s 37us/sample - loss: 0.1906 - acc: 0.9285 - val_loss: 0.3176 - val_acc: 0.8896\n",
            "Epoch 31/100\n",
            "54912/55000 [============================>.] - ETA: 0s - loss: 0.1894 - acc: 0.9306\n",
            "Epoch 00031: val_loss did not improve from 0.29887\n",
            "55000/55000 [==============================] - 2s 34us/sample - loss: 0.1894 - acc: 0.9306 - val_loss: 0.3352 - val_acc: 0.8878\n",
            "Epoch 32/100\n",
            "53696/55000 [============================>.] - ETA: 0s - loss: 0.1857 - acc: 0.9317\n",
            "Epoch 00032: val_loss did not improve from 0.29887\n",
            "55000/55000 [==============================] - 2s 34us/sample - loss: 0.1857 - acc: 0.9317 - val_loss: 0.3308 - val_acc: 0.8900\n",
            "Epoch 33/100\n",
            "53568/55000 [============================>.] - ETA: 0s - loss: 0.1816 - acc: 0.9326\n",
            "Epoch 00033: val_loss did not improve from 0.29887\n",
            "55000/55000 [==============================] - 2s 38us/sample - loss: 0.1823 - acc: 0.9322 - val_loss: 0.3313 - val_acc: 0.8876\n",
            "Epoch 34/100\n",
            "54784/55000 [============================>.] - ETA: 0s - loss: 0.1809 - acc: 0.9330\n",
            "Epoch 00034: val_loss did not improve from 0.29887\n",
            "55000/55000 [==============================] - 2s 33us/sample - loss: 0.1808 - acc: 0.9331 - val_loss: 0.3512 - val_acc: 0.8872\n",
            "Epoch 35/100\n",
            "53568/55000 [============================>.] - ETA: 0s - loss: 0.1762 - acc: 0.9348\n",
            "Epoch 00035: val_loss did not improve from 0.29887\n",
            "55000/55000 [==============================] - 2s 37us/sample - loss: 0.1762 - acc: 0.9347 - val_loss: 0.3281 - val_acc: 0.8942\n",
            "Epoch 36/100\n",
            "53568/55000 [============================>.] - ETA: 0s - loss: 0.1764 - acc: 0.9351\n",
            "Epoch 00036: val_loss did not improve from 0.29887\n",
            "55000/55000 [==============================] - 2s 33us/sample - loss: 0.1756 - acc: 0.9354 - val_loss: 0.3524 - val_acc: 0.8844\n",
            "Epoch 37/100\n",
            "54464/55000 [============================>.] - ETA: 0s - loss: 0.1752 - acc: 0.9347\n",
            "Epoch 00037: val_loss did not improve from 0.29887\n",
            "55000/55000 [==============================] - 2s 37us/sample - loss: 0.1752 - acc: 0.9347 - val_loss: 0.3450 - val_acc: 0.8858\n",
            "Epoch 38/100\n",
            "54720/55000 [============================>.] - ETA: 0s - loss: 0.1706 - acc: 0.9374\n",
            "Epoch 00038: val_loss did not improve from 0.29887\n",
            "55000/55000 [==============================] - 2s 34us/sample - loss: 0.1709 - acc: 0.9373 - val_loss: 0.3426 - val_acc: 0.8852\n",
            "Epoch 39/100\n",
            "54400/55000 [============================>.] - ETA: 0s - loss: 0.1692 - acc: 0.9370\n",
            "Epoch 00039: val_loss did not improve from 0.29887\n",
            "55000/55000 [==============================] - 2s 37us/sample - loss: 0.1691 - acc: 0.9370 - val_loss: 0.3569 - val_acc: 0.8854\n",
            "Epoch 40/100\n",
            "54400/55000 [============================>.] - ETA: 0s - loss: 0.1689 - acc: 0.9376\n",
            "Epoch 00040: val_loss did not improve from 0.29887\n",
            "55000/55000 [==============================] - 2s 33us/sample - loss: 0.1688 - acc: 0.9377 - val_loss: 0.3556 - val_acc: 0.8846\n",
            "Epoch 41/100\n",
            "54400/55000 [============================>.] - ETA: 0s - loss: 0.1645 - acc: 0.9388\n",
            "Epoch 00041: val_loss did not improve from 0.29887\n",
            "55000/55000 [==============================] - 2s 36us/sample - loss: 0.1644 - acc: 0.9388 - val_loss: 0.3509 - val_acc: 0.8872\n",
            "Epoch 42/100\n",
            "53696/55000 [============================>.] - ETA: 0s - loss: 0.1630 - acc: 0.9399\n",
            "Epoch 00042: val_loss did not improve from 0.29887\n",
            "55000/55000 [==============================] - 2s 33us/sample - loss: 0.1634 - acc: 0.9398 - val_loss: 0.3930 - val_acc: 0.8806\n",
            "Epoch 43/100\n",
            "54912/55000 [============================>.] - ETA: 0s - loss: 0.1622 - acc: 0.9398\n",
            "Epoch 00043: val_loss did not improve from 0.29887\n",
            "55000/55000 [==============================] - 2s 37us/sample - loss: 0.1622 - acc: 0.9398 - val_loss: 0.3544 - val_acc: 0.8862\n",
            "Epoch 44/100\n",
            "53696/55000 [============================>.] - ETA: 0s - loss: 0.1586 - acc: 0.9408\n",
            "Epoch 00044: val_loss did not improve from 0.29887\n",
            "55000/55000 [==============================] - 2s 33us/sample - loss: 0.1589 - acc: 0.9407 - val_loss: 0.3561 - val_acc: 0.8870\n",
            "Epoch 45/100\n",
            "54336/55000 [============================>.] - ETA: 0s - loss: 0.1580 - acc: 0.9416\n",
            "Epoch 00045: val_loss did not improve from 0.29887\n",
            "55000/55000 [==============================] - 2s 36us/sample - loss: 0.1578 - acc: 0.9417 - val_loss: 0.3599 - val_acc: 0.8858\n",
            "Epoch 46/100\n",
            "53824/55000 [============================>.] - ETA: 0s - loss: 0.1574 - acc: 0.9427\n",
            "Epoch 00046: val_loss did not improve from 0.29887\n",
            "55000/55000 [==============================] - 2s 33us/sample - loss: 0.1575 - acc: 0.9427 - val_loss: 0.3829 - val_acc: 0.8868\n",
            "Epoch 47/100\n",
            "54912/55000 [============================>.] - ETA: 0s - loss: 0.1533 - acc: 0.9435\n",
            "Epoch 00047: val_loss did not improve from 0.29887\n",
            "55000/55000 [==============================] - 2s 37us/sample - loss: 0.1533 - acc: 0.9435 - val_loss: 0.3826 - val_acc: 0.8868\n",
            "Epoch 48/100\n",
            "54016/55000 [============================>.] - ETA: 0s - loss: 0.1522 - acc: 0.9448\n",
            "Epoch 00048: val_loss did not improve from 0.29887\n",
            "55000/55000 [==============================] - 2s 36us/sample - loss: 0.1521 - acc: 0.9448 - val_loss: 0.3816 - val_acc: 0.8868\n",
            "Epoch 49/100\n",
            "53504/55000 [============================>.] - ETA: 0s - loss: 0.1491 - acc: 0.9458\n",
            "Epoch 00049: val_loss did not improve from 0.29887\n",
            "55000/55000 [==============================] - 2s 32us/sample - loss: 0.1498 - acc: 0.9453 - val_loss: 0.3756 - val_acc: 0.8848\n",
            "Epoch 50/100\n",
            "54144/55000 [============================>.] - ETA: 0s - loss: 0.1477 - acc: 0.9469\n",
            "Epoch 00050: val_loss did not improve from 0.29887\n",
            "55000/55000 [==============================] - 2s 37us/sample - loss: 0.1476 - acc: 0.9470 - val_loss: 0.3843 - val_acc: 0.8898\n",
            "Epoch 51/100\n",
            "53696/55000 [============================>.] - ETA: 0s - loss: 0.1487 - acc: 0.9452\n",
            "Epoch 00051: val_loss did not improve from 0.29887\n",
            "55000/55000 [==============================] - 2s 33us/sample - loss: 0.1487 - acc: 0.9452 - val_loss: 0.3865 - val_acc: 0.8848\n",
            "Epoch 52/100\n",
            "54016/55000 [============================>.] - ETA: 0s - loss: 0.1473 - acc: 0.9457\n",
            "Epoch 00052: val_loss did not improve from 0.29887\n",
            "55000/55000 [==============================] - 2s 37us/sample - loss: 0.1472 - acc: 0.9458 - val_loss: 0.4101 - val_acc: 0.8836\n",
            "Epoch 53/100\n",
            "54336/55000 [============================>.] - ETA: 0s - loss: 0.1437 - acc: 0.9482\n",
            "Epoch 00053: val_loss did not improve from 0.29887\n",
            "55000/55000 [==============================] - 2s 33us/sample - loss: 0.1439 - acc: 0.9481 - val_loss: 0.3850 - val_acc: 0.8870\n",
            "Epoch 54/100\n",
            "54272/55000 [============================>.] - ETA: 0s - loss: 0.1423 - acc: 0.9488\n",
            "Epoch 00054: val_loss did not improve from 0.29887\n",
            "55000/55000 [==============================] - 2s 36us/sample - loss: 0.1422 - acc: 0.9488 - val_loss: 0.4073 - val_acc: 0.8868\n",
            "Epoch 55/100\n",
            "54528/55000 [============================>.] - ETA: 0s - loss: 0.1414 - acc: 0.9478\n",
            "Epoch 00055: val_loss did not improve from 0.29887\n",
            "55000/55000 [==============================] - 2s 34us/sample - loss: 0.1415 - acc: 0.9477 - val_loss: 0.4099 - val_acc: 0.8832\n",
            "Epoch 56/100\n",
            "53696/55000 [============================>.] - ETA: 0s - loss: 0.1398 - acc: 0.9488\n",
            "Epoch 00056: val_loss did not improve from 0.29887\n",
            "55000/55000 [==============================] - 2s 37us/sample - loss: 0.1400 - acc: 0.9489 - val_loss: 0.3950 - val_acc: 0.8882\n",
            "Epoch 57/100\n",
            "54656/55000 [============================>.] - ETA: 0s - loss: 0.1380 - acc: 0.9496\n",
            "Epoch 00057: val_loss did not improve from 0.29887\n",
            "55000/55000 [==============================] - 2s 36us/sample - loss: 0.1379 - acc: 0.9496 - val_loss: 0.3994 - val_acc: 0.8864\n",
            "Epoch 58/100\n",
            "54400/55000 [============================>.] - ETA: 0s - loss: 0.1356 - acc: 0.9501\n",
            "Epoch 00058: val_loss did not improve from 0.29887\n",
            "55000/55000 [==============================] - 2s 34us/sample - loss: 0.1358 - acc: 0.9501 - val_loss: 0.4182 - val_acc: 0.8838\n",
            "Epoch 59/100\n",
            "53632/55000 [============================>.] - ETA: 0s - loss: 0.1342 - acc: 0.9515\n",
            "Epoch 00059: val_loss did not improve from 0.29887\n",
            "55000/55000 [==============================] - 2s 33us/sample - loss: 0.1339 - acc: 0.9517 - val_loss: 0.4184 - val_acc: 0.8836\n",
            "Epoch 60/100\n",
            "54720/55000 [============================>.] - ETA: 0s - loss: 0.1341 - acc: 0.9514\n",
            "Epoch 00060: val_loss did not improve from 0.29887\n",
            "55000/55000 [==============================] - 2s 37us/sample - loss: 0.1343 - acc: 0.9514 - val_loss: 0.4615 - val_acc: 0.8766\n",
            "Epoch 61/100\n",
            "54208/55000 [============================>.] - ETA: 0s - loss: 0.1350 - acc: 0.9501\n",
            "Epoch 00061: val_loss did not improve from 0.29887\n",
            "55000/55000 [==============================] - 2s 33us/sample - loss: 0.1350 - acc: 0.9501 - val_loss: 0.4181 - val_acc: 0.8892\n",
            "Epoch 62/100\n",
            "54336/55000 [============================>.] - ETA: 0s - loss: 0.1304 - acc: 0.9526\n",
            "Epoch 00062: val_loss did not improve from 0.29887\n",
            "55000/55000 [==============================] - 2s 37us/sample - loss: 0.1302 - acc: 0.9526 - val_loss: 0.4300 - val_acc: 0.8858\n",
            "Epoch 63/100\n",
            "53696/55000 [============================>.] - ETA: 0s - loss: 0.1302 - acc: 0.9522\n",
            "Epoch 00063: val_loss did not improve from 0.29887\n",
            "55000/55000 [==============================] - 2s 33us/sample - loss: 0.1299 - acc: 0.9523 - val_loss: 0.4208 - val_acc: 0.8840\n",
            "Epoch 64/100\n",
            "54848/55000 [============================>.] - ETA: 0s - loss: 0.1272 - acc: 0.9536\n",
            "Epoch 00064: val_loss did not improve from 0.29887\n",
            "55000/55000 [==============================] - 2s 37us/sample - loss: 0.1272 - acc: 0.9537 - val_loss: 0.4331 - val_acc: 0.8830\n",
            "Epoch 65/100\n",
            "54272/55000 [============================>.] - ETA: 0s - loss: 0.1308 - acc: 0.9509\n",
            "Epoch 00065: val_loss did not improve from 0.29887\n",
            "55000/55000 [==============================] - 2s 33us/sample - loss: 0.1304 - acc: 0.9510 - val_loss: 0.4228 - val_acc: 0.8854\n",
            "Epoch 66/100\n",
            "54208/55000 [============================>.] - ETA: 0s - loss: 0.1242 - acc: 0.9552\n",
            "Epoch 00066: val_loss did not improve from 0.29887\n",
            "55000/55000 [==============================] - 2s 37us/sample - loss: 0.1245 - acc: 0.9550 - val_loss: 0.4168 - val_acc: 0.8814\n",
            "Epoch 67/100\n",
            "53440/55000 [============================>.] - ETA: 0s - loss: 0.1228 - acc: 0.9557\n",
            "Epoch 00067: val_loss did not improve from 0.29887\n",
            "55000/55000 [==============================] - 2s 33us/sample - loss: 0.1232 - acc: 0.9556 - val_loss: 0.4390 - val_acc: 0.8828\n",
            "Epoch 68/100\n",
            "53376/55000 [============================>.] - ETA: 0s - loss: 0.1244 - acc: 0.9536\n",
            "Epoch 00068: val_loss did not improve from 0.29887\n",
            "55000/55000 [==============================] - 2s 36us/sample - loss: 0.1251 - acc: 0.9534 - val_loss: 0.4241 - val_acc: 0.8878\n",
            "Epoch 69/100\n",
            "53440/55000 [============================>.] - ETA: 0s - loss: 0.1220 - acc: 0.9554\n",
            "Epoch 00069: val_loss did not improve from 0.29887\n",
            "55000/55000 [==============================] - 2s 35us/sample - loss: 0.1220 - acc: 0.9554 - val_loss: 0.4345 - val_acc: 0.8846\n",
            "Epoch 70/100\n",
            "54528/55000 [============================>.] - ETA: 0s - loss: 0.1206 - acc: 0.9553\n",
            "Epoch 00070: val_loss did not improve from 0.29887\n",
            "55000/55000 [==============================] - 2s 33us/sample - loss: 0.1206 - acc: 0.9553 - val_loss: 0.4397 - val_acc: 0.8806\n",
            "Epoch 71/100\n",
            "53248/55000 [============================>.] - ETA: 0s - loss: 0.1222 - acc: 0.9558\n",
            "Epoch 00071: val_loss did not improve from 0.29887\n",
            "55000/55000 [==============================] - 2s 33us/sample - loss: 0.1226 - acc: 0.9557 - val_loss: 0.4590 - val_acc: 0.8832\n",
            "Epoch 72/100\n",
            "54208/55000 [============================>.] - ETA: 0s - loss: 0.1190 - acc: 0.9564\n",
            "Epoch 00072: val_loss did not improve from 0.29887\n",
            "55000/55000 [==============================] - 2s 37us/sample - loss: 0.1190 - acc: 0.9565 - val_loss: 0.4511 - val_acc: 0.8860\n",
            "Epoch 73/100\n",
            "53632/55000 [============================>.] - ETA: 0s - loss: 0.1172 - acc: 0.9571\n",
            "Epoch 00073: val_loss did not improve from 0.29887\n",
            "55000/55000 [==============================] - 2s 33us/sample - loss: 0.1169 - acc: 0.9571 - val_loss: 0.4390 - val_acc: 0.8876\n",
            "Epoch 74/100\n",
            "54336/55000 [============================>.] - ETA: 0s - loss: 0.1153 - acc: 0.9571\n",
            "Epoch 00074: val_loss did not improve from 0.29887\n",
            "55000/55000 [==============================] - 2s 33us/sample - loss: 0.1153 - acc: 0.9571 - val_loss: 0.4748 - val_acc: 0.8838\n",
            "Epoch 75/100\n",
            "54208/55000 [============================>.] - ETA: 0s - loss: 0.1173 - acc: 0.9572\n",
            "Epoch 00075: val_loss did not improve from 0.29887\n",
            "55000/55000 [==============================] - 2s 33us/sample - loss: 0.1175 - acc: 0.9572 - val_loss: 0.4710 - val_acc: 0.8822\n",
            "Epoch 76/100\n",
            "54784/55000 [============================>.] - ETA: 0s - loss: 0.1148 - acc: 0.9581\n",
            "Epoch 00076: val_loss did not improve from 0.29887\n",
            "55000/55000 [==============================] - 2s 32us/sample - loss: 0.1148 - acc: 0.9582 - val_loss: 0.4607 - val_acc: 0.8874\n",
            "Epoch 77/100\n",
            "53632/55000 [============================>.] - ETA: 0s - loss: 0.1139 - acc: 0.9592\n",
            "Epoch 00077: val_loss did not improve from 0.29887\n",
            "55000/55000 [==============================] - 2s 36us/sample - loss: 0.1143 - acc: 0.9590 - val_loss: 0.4883 - val_acc: 0.8808\n",
            "Epoch 78/100\n",
            "54656/55000 [============================>.] - ETA: 0s - loss: 0.1110 - acc: 0.9582\n",
            "Epoch 00078: val_loss did not improve from 0.29887\n",
            "55000/55000 [==============================] - 2s 33us/sample - loss: 0.1110 - acc: 0.9582 - val_loss: 0.4741 - val_acc: 0.8826\n",
            "Epoch 79/100\n",
            "54592/55000 [============================>.] - ETA: 0s - loss: 0.1088 - acc: 0.9602\n",
            "Epoch 00079: val_loss did not improve from 0.29887\n",
            "55000/55000 [==============================] - 2s 36us/sample - loss: 0.1087 - acc: 0.9603 - val_loss: 0.5002 - val_acc: 0.8794\n",
            "Epoch 80/100\n",
            "54784/55000 [============================>.] - ETA: 0s - loss: 0.1105 - acc: 0.9604\n",
            "Epoch 00080: val_loss did not improve from 0.29887\n",
            "55000/55000 [==============================] - 2s 33us/sample - loss: 0.1106 - acc: 0.9603 - val_loss: 0.4866 - val_acc: 0.8816\n",
            "Epoch 81/100\n",
            "54912/55000 [============================>.] - ETA: 0s - loss: 0.1089 - acc: 0.9606\n",
            "Epoch 00081: val_loss did not improve from 0.29887\n",
            "55000/55000 [==============================] - 2s 34us/sample - loss: 0.1089 - acc: 0.9605 - val_loss: 0.4865 - val_acc: 0.8872\n",
            "Epoch 82/100\n",
            "53504/55000 [============================>.] - ETA: 0s - loss: 0.1073 - acc: 0.9614\n",
            "Epoch 00082: val_loss did not improve from 0.29887\n",
            "55000/55000 [==============================] - 2s 37us/sample - loss: 0.1072 - acc: 0.9614 - val_loss: 0.4773 - val_acc: 0.8840\n",
            "Epoch 83/100\n",
            "53568/55000 [============================>.] - ETA: 0s - loss: 0.1081 - acc: 0.9608\n",
            "Epoch 00083: val_loss did not improve from 0.29887\n",
            "55000/55000 [==============================] - 2s 32us/sample - loss: 0.1082 - acc: 0.9607 - val_loss: 0.4711 - val_acc: 0.8852\n",
            "Epoch 84/100\n",
            "53696/55000 [============================>.] - ETA: 0s - loss: 0.1055 - acc: 0.9612\n",
            "Epoch 00084: val_loss did not improve from 0.29887\n",
            "55000/55000 [==============================] - 2s 33us/sample - loss: 0.1053 - acc: 0.9613 - val_loss: 0.4995 - val_acc: 0.8816\n",
            "Epoch 85/100\n",
            "53696/55000 [============================>.] - ETA: 0s - loss: 0.1051 - acc: 0.9615\n",
            "Epoch 00085: val_loss did not improve from 0.29887\n",
            "55000/55000 [==============================] - 2s 33us/sample - loss: 0.1052 - acc: 0.9615 - val_loss: 0.4727 - val_acc: 0.8874\n",
            "Epoch 86/100\n",
            "54144/55000 [============================>.] - ETA: 0s - loss: 0.1059 - acc: 0.9618\n",
            "Epoch 00086: val_loss did not improve from 0.29887\n",
            "55000/55000 [==============================] - 2s 34us/sample - loss: 0.1056 - acc: 0.9619 - val_loss: 0.4952 - val_acc: 0.8870\n",
            "Epoch 87/100\n",
            "53696/55000 [============================>.] - ETA: 0s - loss: 0.1027 - acc: 0.9620\n",
            "Epoch 00087: val_loss did not improve from 0.29887\n",
            "55000/55000 [==============================] - 2s 32us/sample - loss: 0.1029 - acc: 0.9618 - val_loss: 0.5159 - val_acc: 0.8858\n",
            "Epoch 88/100\n",
            "54528/55000 [============================>.] - ETA: 0s - loss: 0.1015 - acc: 0.9636\n",
            "Epoch 00088: val_loss did not improve from 0.29887\n",
            "55000/55000 [==============================] - 2s 33us/sample - loss: 0.1017 - acc: 0.9636 - val_loss: 0.5122 - val_acc: 0.8832\n",
            "Epoch 89/100\n",
            "54016/55000 [============================>.] - ETA: 0s - loss: 0.1025 - acc: 0.9620\n",
            "Epoch 00089: val_loss did not improve from 0.29887\n",
            "55000/55000 [==============================] - 2s 33us/sample - loss: 0.1026 - acc: 0.9618 - val_loss: 0.5107 - val_acc: 0.8822\n",
            "Epoch 90/100\n",
            "53888/55000 [============================>.] - ETA: 0s - loss: 0.1034 - acc: 0.9622\n",
            "Epoch 00090: val_loss did not improve from 0.29887\n",
            "55000/55000 [==============================] - 2s 34us/sample - loss: 0.1033 - acc: 0.9621 - val_loss: 0.5208 - val_acc: 0.8812\n",
            "Epoch 91/100\n",
            "54912/55000 [============================>.] - ETA: 0s - loss: 0.0996 - acc: 0.9646\n",
            "Epoch 00091: val_loss did not improve from 0.29887\n",
            "55000/55000 [==============================] - 2s 33us/sample - loss: 0.0998 - acc: 0.9646 - val_loss: 0.5045 - val_acc: 0.8812\n",
            "Epoch 92/100\n",
            "54528/55000 [============================>.] - ETA: 0s - loss: 0.0980 - acc: 0.9643\n",
            "Epoch 00092: val_loss did not improve from 0.29887\n",
            "55000/55000 [==============================] - 2s 37us/sample - loss: 0.0980 - acc: 0.9644 - val_loss: 0.5199 - val_acc: 0.8804\n",
            "Epoch 93/100\n",
            "54912/55000 [============================>.] - ETA: 0s - loss: 0.0997 - acc: 0.9638\n",
            "Epoch 00093: val_loss did not improve from 0.29887\n",
            "55000/55000 [==============================] - 2s 32us/sample - loss: 0.0997 - acc: 0.9638 - val_loss: 0.5162 - val_acc: 0.8808\n",
            "Epoch 94/100\n",
            "54144/55000 [============================>.] - ETA: 0s - loss: 0.0977 - acc: 0.9650\n",
            "Epoch 00094: val_loss did not improve from 0.29887\n",
            "55000/55000 [==============================] - 2s 32us/sample - loss: 0.0978 - acc: 0.9651 - val_loss: 0.5423 - val_acc: 0.8806\n",
            "Epoch 95/100\n",
            "53888/55000 [============================>.] - ETA: 0s - loss: 0.0970 - acc: 0.9645\n",
            "Epoch 00095: val_loss did not improve from 0.29887\n",
            "55000/55000 [==============================] - 2s 33us/sample - loss: 0.0969 - acc: 0.9646 - val_loss: 0.5309 - val_acc: 0.8834\n",
            "Epoch 96/100\n",
            "54912/55000 [============================>.] - ETA: 0s - loss: 0.0966 - acc: 0.9649\n",
            "Epoch 00096: val_loss did not improve from 0.29887\n",
            "55000/55000 [==============================] - 2s 34us/sample - loss: 0.0967 - acc: 0.9649 - val_loss: 0.5161 - val_acc: 0.8828\n",
            "Epoch 97/100\n",
            "54912/55000 [============================>.] - ETA: 0s - loss: 0.0945 - acc: 0.9660\n",
            "Epoch 00097: val_loss did not improve from 0.29887\n",
            "55000/55000 [==============================] - 2s 33us/sample - loss: 0.0944 - acc: 0.9660 - val_loss: 0.5087 - val_acc: 0.8840\n",
            "Epoch 98/100\n",
            "53440/55000 [============================>.] - ETA: 0s - loss: 0.0938 - acc: 0.9657\n",
            "Epoch 00098: val_loss did not improve from 0.29887\n",
            "55000/55000 [==============================] - 2s 33us/sample - loss: 0.0940 - acc: 0.9657 - val_loss: 0.5289 - val_acc: 0.8822\n",
            "Epoch 99/100\n",
            "54080/55000 [============================>.] - ETA: 0s - loss: 0.0955 - acc: 0.9654\n",
            "Epoch 00099: val_loss did not improve from 0.29887\n",
            "55000/55000 [==============================] - 2s 33us/sample - loss: 0.0952 - acc: 0.9655 - val_loss: 0.5649 - val_acc: 0.8794\n",
            "Epoch 100/100\n",
            "54016/55000 [============================>.] - ETA: 0s - loss: 0.0936 - acc: 0.9670\n",
            "Epoch 00100: val_loss did not improve from 0.29887\n",
            "55000/55000 [==============================] - 2s 33us/sample - loss: 0.0937 - acc: 0.9669 - val_loss: 0.5490 - val_acc: 0.8840\n"
          ],
          "name": "stdout"
        }
      ]
    },
    {
      "cell_type": "markdown",
      "metadata": {
        "id": "Roz03dPRrUus",
        "colab_type": "text"
      },
      "source": [
        "We are loading the best validation accuracy of the 100 epochs"
      ]
    },
    {
      "cell_type": "code",
      "metadata": {
        "id": "G9MUYkGoCGGg",
        "colab_type": "code",
        "colab": {}
      },
      "source": [
        "# Load the weights with the best validation accuracy\n",
        "model.load_weights('model.weights.best.hdf5')"
      ],
      "execution_count": 0,
      "outputs": []
    },
    {
      "cell_type": "markdown",
      "metadata": {
        "id": "fyDzzzlFrZua",
        "colab_type": "text"
      },
      "source": [
        "This model have an accuracy of around 88% that is not bad but we can do better.\n",
        "\n"
      ]
    },
    {
      "cell_type": "code",
      "metadata": {
        "id": "iHjrhW9gCFqk",
        "colab_type": "code",
        "outputId": "e0b25724-ec27-4027-b81b-0e4e770fc22b",
        "colab": {
          "base_uri": "https://localhost:8080/",
          "height": 51
        }
      },
      "source": [
        "# Evaluate the model on test set\n",
        "score = model.evaluate(test_images, test_labels, verbose=0)\n",
        "\n",
        "# Print test accuracy\n",
        "print('\\n', 'Test accuracy:', score[1])"
      ],
      "execution_count": 0,
      "outputs": [
        {
          "output_type": "stream",
          "text": [
            "\n",
            " Test accuracy: 0.8809\n"
          ],
          "name": "stdout"
        }
      ]
    },
    {
      "cell_type": "markdown",
      "metadata": {
        "id": "bxDMB-ZSrn3D",
        "colab_type": "text"
      },
      "source": [
        "In the graph below we can see that the accuracy when the model was training is more than 96% but with data never seen is going up and down around 88%. It's called \"overfitting\" when we see a gap like this between train accuracy and test accuracy. To resolve the overfitting the best solution is having more testing data. We can see also that we can use 10 epochs and getting the same results.\n",
        "\n",
        "I took the graph code from [here](https://stackoverflow.com/questions/41908379/keras-plot-training-validation-and-test-set-accuracy)."
      ]
    },
    {
      "cell_type": "code",
      "metadata": {
        "id": "t4Bu1AIrD7Q7",
        "colab_type": "code",
        "outputId": "c8cf696c-c7d8-4b96-933b-fde7155fedd4",
        "colab": {
          "base_uri": "https://localhost:8080/",
          "height": 573
        }
      },
      "source": [
        "# Plot training & validation accuracy values\n",
        "plt.plot(histories.history['acc'])\n",
        "plt.plot(histories.history['val_acc'])\n",
        "plt.title('Model accuracy')\n",
        "plt.ylabel('Accuracy')\n",
        "plt.xlabel('Epoch')\n",
        "plt.legend(['Train', 'Test'], loc='upper left')\n",
        "plt.show()\n",
        "\n",
        "# Plot training & validation loss values\n",
        "plt.plot(histories.history['loss'])\n",
        "plt.plot(histories.history['val_loss'])\n",
        "plt.title('Model loss')\n",
        "plt.ylabel('Loss')\n",
        "plt.xlabel('Epoch')\n",
        "plt.legend(['Train', 'Test'], loc='upper left')\n",
        "plt.show()"
      ],
      "execution_count": 0,
      "outputs": [
        {
          "output_type": "display_data",
          "data": {
            "image/png": "[encoded data removed]",
            "text/plain": [
              "<Figure size 432x288 with 1 Axes>"
            ]
          },
          "metadata": {
            "tags": []
          }
        },
        {
          "output_type": "display_data",
          "data": {
            "image/png": "[encoded data removed]",
            "text/plain": [
              "<Figure size 432x288 with 1 Axes>"
            ]
          },
          "metadata": {
            "tags": []
          }
        }
      ]
    },
    {
      "cell_type": "markdown",
      "metadata": {
        "id": "Lf9p0qddT3Cx",
        "colab_type": "text"
      },
      "source": [
        "# The model with ConvNet\n",
        "For the new model, I am using Conv2D, Pooling and Dropout.\n",
        "\n",
        "Conv2D is used mostly for image recognition. In our case, it takes the image and pass a filter over the image in some specific pixels of the image and give some value (0-1) and then move in another part of the image and continue this process until all the image is scanned. My kernel size is 2 so that means the output of the image will be a 2x2 size.\n",
        "\n",
        "Pooling function is to progressively reduce the spatial size of the representation to reduce the amount of parameters and computation in the network. Pooling layer operates on each feature map independently. Source: [medium.com](https://medium.com/technologymadeeasy/the-best-explanation-of-convolutional-neural-networks-on-the-internet-fbb8b1ad5df8)\n",
        "\n",
        "Dropout function reduce the overfitting. It drops out visible and hidden layers."
      ]
    },
    {
      "cell_type": "code",
      "metadata": {
        "id": "qv72GXNFT4Cr",
        "colab_type": "code",
        "outputId": "a78f223f-02bc-4bf3-afeb-d923939e292a",
        "colab": {
          "base_uri": "https://localhost:8080/",
          "height": 428
        }
      },
      "source": [
        "model = models.Sequential()\n",
        "model.add(layers.Conv2D(filters=64, kernel_size=2, padding='same', activation='relu', input_shape=(28, 28, 1)))\n",
        "model.add(layers.MaxPooling2D(pool_size=2))\n",
        "model.add(layers.Dropout(0.3))\n",
        "\n",
        "model.add(layers.Conv2D(filters=32, kernel_size=2, padding='same', activation='relu'))\n",
        "model.add(layers.MaxPooling2D(pool_size=2))\n",
        "model.add(layers.Dropout(0.3))\n",
        "\n",
        "model.summary()"
      ],
      "execution_count": 0,
      "outputs": [
        {
          "output_type": "stream",
          "text": [
            "WARNING:tensorflow:From /usr/local/lib/python3.6/dist-packages/tensorflow_core/python/ops/resource_variable_ops.py:1630: calling BaseResourceVariable.__init__ (from tensorflow.python.ops.resource_variable_ops) with constraint is deprecated and will be removed in a future version.\n",
            "Instructions for updating:\n",
            "If using Keras pass *_constraint arguments to layers.\n",
            "Model: \"sequential\"\n",
            "_________________________________________________________________\n",
            "Layer (type)                 Output Shape              Param #   \n",
            "=================================================================\n",
            "conv2d (Conv2D)              (None, 28, 28, 64)        320       \n",
            "_________________________________________________________________\n",
            "max_pooling2d (MaxPooling2D) (None, 14, 14, 64)        0         \n",
            "_________________________________________________________________\n",
            "dropout (Dropout)            (None, 14, 14, 64)        0         \n",
            "_________________________________________________________________\n",
            "conv2d_1 (Conv2D)            (None, 14, 14, 32)        8224      \n",
            "_________________________________________________________________\n",
            "max_pooling2d_1 (MaxPooling2 (None, 7, 7, 32)          0         \n",
            "_________________________________________________________________\n",
            "dropout_1 (Dropout)          (None, 7, 7, 32)          0         \n",
            "=================================================================\n",
            "Total params: 8,544\n",
            "Trainable params: 8,544\n",
            "Non-trainable params: 0\n",
            "_________________________________________________________________\n"
          ],
          "name": "stdout"
        }
      ]
    },
    {
      "cell_type": "markdown",
      "metadata": {
        "id": "L1J-sJQb0j6X",
        "colab_type": "text"
      },
      "source": [
        "I have to flatten the 3D outputs into 1D and adding the Dense layers. I have used \"softmax\" again for the output layer. We can see how our networks are. From `(None, 7, 7, 32)` is flattened to `(None, 1568)`."
      ]
    },
    {
      "cell_type": "code",
      "metadata": {
        "id": "KiPto1xI113N",
        "colab_type": "code",
        "outputId": "818faaeb-e37c-4597-94e0-4737e33a5801",
        "colab": {
          "base_uri": "https://localhost:8080/",
          "height": 493
        }
      },
      "source": [
        "model.add(layers.Flatten())\n",
        "model.add(layers.Dense(256, activation='relu'))\n",
        "model.add(tf.keras.layers.Dropout(0.5))\n",
        "model.add(layers.Dense(10, activation='softmax'))\n",
        "model.summary()"
      ],
      "execution_count": 0,
      "outputs": [
        {
          "output_type": "stream",
          "text": [
            "Model: \"sequential\"\n",
            "_________________________________________________________________\n",
            "Layer (type)                 Output Shape              Param #   \n",
            "=================================================================\n",
            "conv2d (Conv2D)              (None, 28, 28, 64)        320       \n",
            "_________________________________________________________________\n",
            "max_pooling2d (MaxPooling2D) (None, 14, 14, 64)        0         \n",
            "_________________________________________________________________\n",
            "dropout (Dropout)            (None, 14, 14, 64)        0         \n",
            "_________________________________________________________________\n",
            "conv2d_1 (Conv2D)            (None, 14, 14, 32)        8224      \n",
            "_________________________________________________________________\n",
            "max_pooling2d_1 (MaxPooling2 (None, 7, 7, 32)          0         \n",
            "_________________________________________________________________\n",
            "dropout_1 (Dropout)          (None, 7, 7, 32)          0         \n",
            "_________________________________________________________________\n",
            "flatten (Flatten)            (None, 1568)              0         \n",
            "_________________________________________________________________\n",
            "dense (Dense)                (None, 256)               401664    \n",
            "_________________________________________________________________\n",
            "dropout_2 (Dropout)          (None, 256)               0         \n",
            "_________________________________________________________________\n",
            "dense_1 (Dense)              (None, 10)                2570      \n",
            "=================================================================\n",
            "Total params: 412,778\n",
            "Trainable params: 412,778\n",
            "Non-trainable params: 0\n",
            "_________________________________________________________________\n"
          ],
          "name": "stdout"
        }
      ]
    },
    {
      "cell_type": "markdown",
      "metadata": {
        "id": "Inn7zYJK2IuA",
        "colab_type": "text"
      },
      "source": [
        "Here, I am keeping 55000 data for training and the rest 5000 for the validation set. Reshaping the data into `(train_images.shape[0], 28, 28, 1)`. The one 1 means that the image is in greyscale."
      ]
    },
    {
      "cell_type": "code",
      "metadata": {
        "id": "IEPSHxI38P9B",
        "colab_type": "code",
        "outputId": "41e8d724-caa4-432f-ef57-60e8edc3686c",
        "colab": {
          "base_uri": "https://localhost:8080/",
          "height": 85
        }
      },
      "source": [
        "# Further break training data into train / validation sets (# put 5000 into validation set and keep remaining 55,000 for train)\n",
        "(train_images, valid_images) = train_images[5000:], train_images[:5000] \n",
        "(train_labels, valid_labels) = train_labels[5000:], train_labels[:5000]\n",
        "\n",
        "train_images = train_images.reshape((train_images.shape[0], 28, 28, 1))\n",
        "valid_images = valid_images.reshape((valid_images.shape[0], 28, 28, 1))\n",
        "test_images = test_images.reshape((test_images.shape[0], 28, 28, 1))\n",
        "\n",
        "# One-hot encode the labels\n",
        "train_labels = to_categorical(train_labels, 10)\n",
        "valid_labels = to_categorical(valid_labels, 10)\n",
        "test_labels = to_categorical(test_labels, 10)\n",
        "\n",
        "print(\"train_images shape:\", train_images.shape, \"train_labels shape:\", train_labels.shape)\n",
        "\n",
        "# Print the number of training, validation, and test datasets\n",
        "print(train_images.shape[0], 'train set')\n",
        "print(valid_images.shape[0], 'validation set')\n",
        "print(test_images.shape[0], 'test set')"
      ],
      "execution_count": 0,
      "outputs": [
        {
          "output_type": "stream",
          "text": [
            "train_images shape: (55000, 28, 28, 1) train_labels shape: (55000, 10)\n",
            "55000 train set\n",
            "5000 validation set\n",
            "10000 test set\n"
          ],
          "name": "stdout"
        }
      ]
    },
    {
      "cell_type": "code",
      "metadata": {
        "id": "-3zgQryaGIrY",
        "colab_type": "code",
        "outputId": "c56babf0-1d86-4a0e-d743-0deef6629522",
        "colab": {
          "base_uri": "https://localhost:8080/",
          "height": 34
        }
      },
      "source": [
        "train_images = train_images.astype('float32') / 255\n",
        "test_images = test_images.astype('float32') / 255\n",
        "print(\"x_train shape:\", train_images.shape, \"y_train shape:\", train_labels.shape)"
      ],
      "execution_count": 0,
      "outputs": [
        {
          "output_type": "stream",
          "text": [
            "x_train shape: (55000, 28, 28, 1) y_train shape: (55000, 10)\n"
          ],
          "name": "stdout"
        }
      ]
    },
    {
      "cell_type": "markdown",
      "metadata": {
        "id": "RqFrXynV32Ki",
        "colab_type": "text"
      },
      "source": [
        "Configuration of the learning process."
      ]
    },
    {
      "cell_type": "code",
      "metadata": {
        "id": "IlRRehMEJUSX",
        "colab_type": "code",
        "colab": {}
      },
      "source": [
        "model.compile(optimizer='adam',\n",
        "              loss='categorical_crossentropy',\n",
        "              metrics=['accuracy'])\n"
      ],
      "execution_count": 0,
      "outputs": []
    },
    {
      "cell_type": "markdown",
      "metadata": {
        "id": "aTfyjSV94bXC",
        "colab_type": "text"
      },
      "source": [
        "# Training the model\n",
        "Also here, I am using the callback to save the best validation accuracy but in this case, the epochs are just 10 because the network is bigger than the previous model and it take more than 1 minute to complete an epoch."
      ]
    },
    {
      "cell_type": "code",
      "metadata": {
        "id": "0C3V24UP3zrv",
        "colab_type": "code",
        "outputId": "4ce445dd-e5f3-41c2-b6fb-dc45b8c9c360",
        "colab": {
          "base_uri": "https://localhost:8080/",
          "height": 731
        }
      },
      "source": [
        "from keras.callbacks import ModelCheckpoint\n",
        "checkpointer = ModelCheckpoint(filepath='model.weights.best.hdf5', verbose = 1, save_best_only=True)\n",
        "\n",
        "history = model.fit(train_images,\n",
        "                    train_labels,\n",
        "                    epochs=10,\n",
        "                    batch_size=64,\n",
        "                    validation_data=(valid_images, valid_labels),\n",
        "                    callbacks=[checkpointer])"
      ],
      "execution_count": 0,
      "outputs": [
        {
          "output_type": "stream",
          "text": [
            "Using TensorFlow backend.\n"
          ],
          "name": "stderr"
        },
        {
          "output_type": "stream",
          "text": [
            "Train on 55000 samples, validate on 5000 samples\n",
            "Epoch 1/10\n",
            "54976/55000 [============================>.] - ETA: 0s - loss: 0.5943 - acc: 0.7806\n",
            "Epoch 00001: val_loss improved from inf to 35.75364, saving model to model.weights.best.hdf5\n",
            "55000/55000 [==============================] - 67s 1ms/sample - loss: 0.5942 - acc: 0.7806 - val_loss: 35.7536 - val_acc: 0.8674\n",
            "Epoch 2/10\n",
            "54976/55000 [============================>.] - ETA: 0s - loss: 0.4067 - acc: 0.8525\n",
            "Epoch 00002: val_loss improved from 35.75364 to 32.59213, saving model to model.weights.best.hdf5\n",
            "55000/55000 [==============================] - 66s 1ms/sample - loss: 0.4067 - acc: 0.8525 - val_loss: 32.5921 - val_acc: 0.8820\n",
            "Epoch 3/10\n",
            "54976/55000 [============================>.] - ETA: 0s - loss: 0.3647 - acc: 0.8671\n",
            "Epoch 00003: val_loss improved from 32.59213 to 30.02967, saving model to model.weights.best.hdf5\n",
            "55000/55000 [==============================] - 66s 1ms/sample - loss: 0.3647 - acc: 0.8672 - val_loss: 30.0297 - val_acc: 0.8922\n",
            "Epoch 4/10\n",
            "54976/55000 [============================>.] - ETA: 0s - loss: 0.3405 - acc: 0.8769\n",
            "Epoch 00004: val_loss improved from 30.02967 to 27.14257, saving model to model.weights.best.hdf5\n",
            "55000/55000 [==============================] - 67s 1ms/sample - loss: 0.3405 - acc: 0.8768 - val_loss: 27.1426 - val_acc: 0.8880\n",
            "Epoch 5/10\n",
            "54976/55000 [============================>.] - ETA: 0s - loss: 0.3193 - acc: 0.8826\n",
            "Epoch 00005: val_loss did not improve from 27.14257\n",
            "55000/55000 [==============================] - 67s 1ms/sample - loss: 0.3193 - acc: 0.8827 - val_loss: 29.0297 - val_acc: 0.8854\n",
            "Epoch 6/10\n",
            "54976/55000 [============================>.] - ETA: 0s - loss: 0.3061 - acc: 0.8863\n",
            "Epoch 00006: val_loss did not improve from 27.14257\n",
            "55000/55000 [==============================] - 67s 1ms/sample - loss: 0.3061 - acc: 0.8863 - val_loss: 29.2022 - val_acc: 0.8788\n",
            "Epoch 7/10\n",
            "54976/55000 [============================>.] - ETA: 0s - loss: 0.2968 - acc: 0.8924\n",
            "Epoch 00007: val_loss improved from 27.14257 to 26.32112, saving model to model.weights.best.hdf5\n",
            "55000/55000 [==============================] - 67s 1ms/sample - loss: 0.2968 - acc: 0.8924 - val_loss: 26.3211 - val_acc: 0.8772\n",
            "Epoch 8/10\n",
            "54976/55000 [============================>.] - ETA: 0s - loss: 0.2838 - acc: 0.8953\n",
            "Epoch 00008: val_loss improved from 26.32112 to 24.83290, saving model to model.weights.best.hdf5\n",
            "55000/55000 [==============================] - 67s 1ms/sample - loss: 0.2838 - acc: 0.8953 - val_loss: 24.8329 - val_acc: 0.8866\n",
            "Epoch 9/10\n",
            "54976/55000 [============================>.] - ETA: 0s - loss: 0.2710 - acc: 0.9005\n",
            "Epoch 00009: val_loss did not improve from 24.83290\n",
            "55000/55000 [==============================] - 67s 1ms/sample - loss: 0.2710 - acc: 0.9004 - val_loss: 30.4992 - val_acc: 0.8668\n",
            "Epoch 10/10\n",
            "54976/55000 [============================>.] - ETA: 0s - loss: 0.2664 - acc: 0.9025\n",
            "Epoch 00010: val_loss did not improve from 24.83290\n",
            "55000/55000 [==============================] - 66s 1ms/sample - loss: 0.2664 - acc: 0.9025 - val_loss: 25.2478 - val_acc: 0.8836\n"
          ],
          "name": "stdout"
        }
      ]
    },
    {
      "cell_type": "markdown",
      "metadata": {
        "id": "_fWYHA0u5jFT",
        "colab_type": "text"
      },
      "source": [
        "# Test accuracy\n"
      ]
    },
    {
      "cell_type": "code",
      "metadata": {
        "id": "BLz4Vz1-4WY4",
        "colab_type": "code",
        "colab": {}
      },
      "source": [
        "# Load the weights with the best validation accuracy\n",
        "model.load_weights('model.weights.best.hdf5')"
      ],
      "execution_count": 0,
      "outputs": []
    },
    {
      "cell_type": "markdown",
      "metadata": {
        "id": "NzgMYoOY42yd",
        "colab_type": "text"
      },
      "source": [
        "The accuracy is around 90% that is better than the previous model accuracy."
      ]
    },
    {
      "cell_type": "code",
      "metadata": {
        "id": "3Ixs8txbM4Dj",
        "colab_type": "code",
        "outputId": "512470ec-fcd9-46ec-a3b7-bec086425133",
        "colab": {
          "base_uri": "https://localhost:8080/",
          "height": 51
        }
      },
      "source": [
        "# Evaluate the model on test set\n",
        "score = model.evaluate(test_images, test_labels, verbose=0)\n",
        "\n",
        "# Print test accuracy\n",
        "print('\\n', 'Test accuracy:', score[1])"
      ],
      "execution_count": 0,
      "outputs": [
        {
          "output_type": "stream",
          "text": [
            "\n",
            " Test accuracy: 0.9038\n"
          ],
          "name": "stdout"
        }
      ]
    },
    {
      "cell_type": "markdown",
      "metadata": {
        "id": "LrbpYPGq5xfe",
        "colab_type": "text"
      },
      "source": [
        "The difference from test and train accuracy gap is lower than the previous model."
      ]
    },
    {
      "cell_type": "code",
      "metadata": {
        "id": "RNRyhokJ5L8h",
        "colab_type": "code",
        "outputId": "3dde961b-d02d-40f2-a49e-6561a8e2b3ce",
        "colab": {
          "base_uri": "https://localhost:8080/",
          "height": 573
        }
      },
      "source": [
        "# Plot training & validation accuracy values\n",
        "plt.plot(history.history['acc'])\n",
        "plt.plot(history.history['val_acc'])\n",
        "plt.title('Model accuracy')\n",
        "plt.ylabel('Accuracy')\n",
        "plt.xlabel('Epoch')\n",
        "plt.legend(['Train', 'Test'], loc='upper left')\n",
        "plt.show()\n",
        "\n",
        "# Plot training & validation loss values\n",
        "plt.plot(history.history['loss'])\n",
        "plt.plot(history.history['val_loss'])\n",
        "plt.title('Model loss')\n",
        "plt.ylabel('Loss')\n",
        "plt.xlabel('Epoch')\n",
        "plt.legend(['Train', 'Test'], loc='upper left')\n",
        "plt.show()"
      ],
      "execution_count": 0,
      "outputs": [
        {
          "output_type": "display_data",
          "data": {
            "image/png": "[encoded data removed]",
            "text/plain": [
              "<Figure size 432x288 with 1 Axes>"
            ]
          },
          "metadata": {
            "tags": []
          }
        },
        {
          "output_type": "display_data",
          "data": {
            "image/png": "[encoded data removed]",
            "text/plain": [
              "<Figure size 432x288 with 1 Axes>"
            ]
          },
          "metadata": {
            "tags": []
          }
        }
      ]
    },
    {
      "cell_type": "markdown",
      "metadata": {
        "id": "CXyXP2cN60GD",
        "colab_type": "text"
      },
      "source": [
        "# Predictions\n",
        "We can see a simple visualisation of the prediction of this model. The image with red text above are the wrong predictions and you can see the correct answer inside the parenthesis.\n"
      ]
    },
    {
      "cell_type": "code",
      "metadata": {
        "id": "Z5kP1IVnOibV",
        "colab_type": "code",
        "outputId": "0885ec36-26cc-496a-97a0-1e66af9ba6cb",
        "colab": {
          "base_uri": "https://localhost:8080/",
          "height": 485
        }
      },
      "source": [
        "y_hat = model.predict(test_images)\n",
        "\n",
        "# Plot a random sample of 10 test images, their predicted labels and ground truth\n",
        "figure = plt.figure(figsize=(20, 8))\n",
        "for i, index in enumerate(np.random.choice(test_images.shape[0], size=15, replace=False)):\n",
        "    ax = figure.add_subplot(3, 5, i + 1, xticks=[], yticks=[])\n",
        "    # Display each image\n",
        "    ax.imshow(np.squeeze(test_images[index]))\n",
        "    predict_index = np.argmax(y_hat[index])\n",
        "    true_index = np.argmax(test_labels[index])\n",
        "    # Set the title for each image\n",
        "    ax.set_title(\"{} ({})\".format(fashion_mnist_labels[predict_index], \n",
        "                                  fashion_mnist_labels[true_index]),\n",
        "                                  color=(\"green\" if predict_index == true_index else \"red\"))"
      ],
      "execution_count": 0,
      "outputs": [
        {
          "output_type": "display_data",
          "data": {
            "image/png": "[encoded data removed]",
            "text/plain": [
              "<Figure size 1440x576 with 15 Axes>"
            ]
          },
          "metadata": {
            "tags": []
          }
        }
      ]
    },
    {
      "cell_type": "markdown",
      "metadata": {
        "id": "9XLrwIai7dBO",
        "colab_type": "text"
      },
      "source": [
        "# Conclusion\n",
        "I have done two different models, one with one the dense layer and the other also with convolutional layers to see the difference. We can see that the first model is faster than the second one. But the second model has a higher accuracy. The accuracy is increased by 2% and it is thanks to the ConvNet layers that are really good with images dataset. I have tried with different parameters for both model but the first model never increased his accuracy."
      ]
    }
  ]
}